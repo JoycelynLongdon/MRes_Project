{
 "cells": [
  {
   "cell_type": "markdown",
   "id": "lucky-enterprise",
   "metadata": {},
   "source": [
    "### Log Ratio Method for Identifying Tree Loss"
   ]
  },
  {
   "cell_type": "markdown",
   "id": "shaped-glossary",
   "metadata": {},
   "source": [
    "#### Import Packages"
   ]
  },
  {
   "cell_type": "code",
   "execution_count": 1,
   "id": "chief-oregon",
   "metadata": {},
   "outputs": [],
   "source": [
    "# keep logging quiet\n",
    "import logging\n",
    "\n",
    "logging.getLogger().setLevel(logging.INFO)\n",
    "logging.captureWarnings(True)"
   ]
  },
  {
   "cell_type": "code",
   "execution_count": 2,
   "id": "reverse-frank",
   "metadata": {},
   "outputs": [],
   "source": [
    "# import packages\n",
    "import ipywidgets\n",
    "import ipyleaflet\n",
    "import numpy as np\n",
    "import matplotlib.pyplot as plt\n",
    "import descarteslabs.workflows as wf\n",
    "from utils import FullArray, DrawControl\n"
   ]
  },
  {
   "cell_type": "code",
   "execution_count": 9,
   "id": "fewer-coalition",
   "metadata": {},
   "outputs": [],
   "source": [
    "\n",
    "# Before Composite\n",
    "before = (\n",
    "    wf.ImageCollection.from_id(\n",
    "        \"sentinel-1:GRD\", start_datetime=\"2016-01-01\", end_datetime=\"2016-12-31\"\n",
    "    )\n",
    "    .pick_bands(\"vh\")\n",
    "    .median(axis=\"images\")\n",
    ")\n",
    "before.visualize(\"Sentinel-1 2016 composite\", colormap=\"Greens\", scales=[[0, 0.09]])\n",
    "\n",
    "# After Composite\n",
    "after = (\n",
    "    wf.ImageCollection.from_id(\n",
    "        \"sentinel-1:GRD\", start_datetime=\"2019-01-01\", end_datetime=\"2019-12-31\"\n",
    "    )\n",
    "    .pick_bands(\"vh\")\n",
    "    .median(axis=\"images\")\n",
    ")\n",
    "after.visualize(\"Sentinel-1 2019 composite\", colormap=\"Greens\", scales=[[0, 0.09]])\n",
    "\n",
    "# Take the log of the ratio of both composites (equivalent to difference of logs)\n",
    "log_ratio = wf.log10(before / after)\n",
    "\n",
    "# Define a threshold for the log ratio\n",
    "threshold = 0.01\n",
    "\n",
    "# Threshold the log ratio layer\n",
    "deforestation = log_ratio > threshold"
   ]
  },
  {
   "cell_type": "markdown",
   "id": "arctic-permit",
   "metadata": {},
   "source": [
    "#### Morpholigical Filtering"
   ]
  },
  {
   "cell_type": "code",
   "execution_count": 10,
   "id": "looking-italic",
   "metadata": {},
   "outputs": [],
   "source": [
    "# Define simple functions for erosion and dilation\n",
    "\n",
    "\n",
    "def erode_op(map_layer, iters, kernel):\n",
    "    map_layer = ~map_layer\n",
    "    for i in range(iters):\n",
    "        map_layer = wf.conv2d(map_layer, kernel) > 0\n",
    "    map_layer = ~map_layer\n",
    "    return map_layer\n",
    "\n",
    "\n",
    "def dilate_op(map_layer, iters, kernel):\n",
    "    for i in range(iters):\n",
    "        map_layer = map_layer * 1.0\n",
    "        map_layer = wf.conv2d(map_layer, kernel) > 0\n",
    "    return map_layer\n",
    "\n",
    "\n",
    "# Define a kernel and perform one erosion followed by two dilations\n",
    "kernel = wf.Kernel(dims=(3, 3), data=[0.0, 1.0, 0.0, 1.0, 1.0, 1.0, 0.0, 1.0, 0.0])\n",
    "\n",
    "eroded = erode_op(deforestation, iters=1, kernel=kernel)\n",
    "dilated = dilate_op(eroded, iters=2, kernel=kernel)\n",
    "\n",
    "# Visualize the resulting deforestation mask\n",
    "lyr = dilated.mask(dilated == 0).visualize(\n",
    "    \"Deforestation\", checkerboard=False, colormap=\"bwr\"\n",
    ")\n",
    "lyr.opacity = 0.7"
   ]
  },
  {
   "cell_type": "markdown",
   "id": "taken-departure",
   "metadata": {},
   "source": [
    "#### Visualise Imagery"
   ]
  },
  {
   "cell_type": "code",
   "execution_count": 12,
   "id": "german-spyware",
   "metadata": {},
   "outputs": [
    {
     "ename": "TypeError",
     "evalue": "__init__() takes 1 positional argument but 2 were given",
     "output_type": "error",
     "traceback": [
      "\u001b[0;31m---------------------------------------------------------------------------\u001b[0m",
      "\u001b[0;31mTypeError\u001b[0m                                 Traceback (most recent call last)",
      "\u001b[0;32m<ipython-input-12-064fe8fd3211>\u001b[0m in \u001b[0;36m<module>\u001b[0;34m\u001b[0m\n\u001b[1;32m     45\u001b[0m )\n\u001b[1;32m     46\u001b[0m acreage_button = ipywidgets.Button(\n\u001b[0;32m---> 47\u001b[0;31m     \u001b[0mdc\u001b[0m\u001b[0;34m.\u001b[0m\u001b[0mon_draw\u001b[0m\u001b[0;34m,\u001b[0m \u001b[0mdescription\u001b[0m\u001b[0;34m=\u001b[0m\u001b[0;34m\"Acreage\"\u001b[0m\u001b[0;34m,\u001b[0m \u001b[0mlayout\u001b[0m\u001b[0;34m=\u001b[0m\u001b[0mipywidgets\u001b[0m\u001b[0;34m.\u001b[0m\u001b[0mLayout\u001b[0m\u001b[0;34m(\u001b[0m\u001b[0mwidth\u001b[0m\u001b[0;34m=\u001b[0m\u001b[0;34m\"auto\"\u001b[0m\u001b[0;34m)\u001b[0m\u001b[0;34m\u001b[0m\u001b[0;34m\u001b[0m\u001b[0m\n\u001b[0m\u001b[1;32m     48\u001b[0m )\n\u001b[1;32m     49\u001b[0m \u001b[0moutput_clear_button\u001b[0m\u001b[0;34m.\u001b[0m\u001b[0mon_click\u001b[0m\u001b[0;34m(\u001b[0m\u001b[0;32mlambda\u001b[0m \u001b[0mb\u001b[0m\u001b[0;34m:\u001b[0m \u001b[0moutput\u001b[0m\u001b[0;34m.\u001b[0m\u001b[0mclear_output\u001b[0m\u001b[0;34m(\u001b[0m\u001b[0;34m)\u001b[0m\u001b[0;34m)\u001b[0m\u001b[0;34m\u001b[0m\u001b[0;34m\u001b[0m\u001b[0m\n",
      "\u001b[0;31mTypeError\u001b[0m: __init__() takes 1 positional argument but 2 were given"
     ]
    }
   ],
   "source": [
    "# Location\n",
    "location = 'CongoKazumba' # Name for saved .pngs\n",
    "lat, lon = -6.42, 22.3983 # Center of Area of Interest \n",
    "zoom = 15 # Map tile zoom, 16 default\n",
    "\n",
    "#initialise interactive map\n",
    "m = wf.map.map\n",
    "m1 = wf.interactive.MapApp()\n",
    "m1.center, m1.zoom = (lat, lon), zoom\n",
    "m.layout.width = \"1200px\"\n",
    "m.layout.height = \"900\"\n",
    "\n",
    "#define marker for deforestation identification\n",
    "dc = DrawControl(circlemarker={}, rectangle={}, polyline={})\n",
    "wf.map.add_control(dc)\n",
    "\n",
    "# Interactively compute deforested acreage\n",
    "pixel_sum = FullArray(wf.map, variable=dilated, draw_control=dc)\n",
    "\n",
    "output = ipywidgets.Output()\n",
    "\n",
    "\n",
    "@output.capture()\n",
    "def print_acreage(*args, **kwargs):\n",
    "    # Estimate the surface area of one pixel in hectares\n",
    "    pix_size = (156543.00 / 2 ** (max(m.zoom, 0))) ** 2 / 10000\n",
    "    # Get the array equivalent to the polygon drawn by the user\n",
    "    d = pixel_sum.data\n",
    "    # Compute deforested and total acreage\n",
    "    deforested = round((d == 1).sum() * pix_size, 2)\n",
    "    total = round(((d == 1) | (d == 0)).sum() * pix_size, 2)\n",
    "    print(\n",
    "        \"Deforested area within AOI : \\n\\n{} ha (of {} ha in total)\".format(\n",
    "            deforested, total\n",
    "        )\n",
    "    )\n",
    "\n",
    "\n",
    "# Perform the acreage computation\n",
    "dc.on_draw(print_acreage)\n",
    "\n",
    "# Print acreage in a clear button on the map in the top right corner\n",
    "output_clear_button = ipywidgets.Button(\n",
    "    description=\"Clear Output Window\", layout=ipywidgets.Layout(width=\"auto\")\n",
    ")\n",
    "acreage_button = ipywidgets.Button(\n",
    "    dc.on_draw, description=\"Acreage\", layout=ipywidgets.Layout(width=\"auto\")\n",
    ")\n",
    "output_clear_button.on_click(lambda b: output.clear_output())\n",
    "output_vbox = ipywidgets.VBox([output, output_clear_button])\n",
    "m.add_control(ipyleaflet.WidgetControl(widget=output_vbox, position=\"bottomleft\"))\n",
    "\n",
    "ipywidgets.HBox([wf.map])"
   ]
  },
  {
   "cell_type": "code",
   "execution_count": null,
   "id": "qualified-audience",
   "metadata": {},
   "outputs": [],
   "source": []
  }
 ],
 "metadata": {
  "kernelspec": {
   "display_name": "Python 3",
   "language": "python",
   "name": "python3"
  },
  "language_info": {
   "codemirror_mode": {
    "name": "ipython",
    "version": 3
   },
   "file_extension": ".py",
   "mimetype": "text/x-python",
   "name": "python",
   "nbconvert_exporter": "python",
   "pygments_lexer": "ipython3",
   "version": "3.7.10"
  }
 },
 "nbformat": 4,
 "nbformat_minor": 5
}
